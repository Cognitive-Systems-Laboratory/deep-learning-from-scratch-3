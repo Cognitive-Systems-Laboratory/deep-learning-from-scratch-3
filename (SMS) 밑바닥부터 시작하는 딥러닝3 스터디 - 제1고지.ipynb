{
 "cells": [
  {
   "cell_type": "markdown",
   "id": "stainless-prompt",
   "metadata": {},
   "source": [
    "<img src=\"./cover.jpg\" width=30%>"
   ]
  },
  {
   "cell_type": "markdown",
   "id": "urban-wound",
   "metadata": {},
   "source": [
    "# 밑시딥3 - 제1고지 미분 자동 계산\n",
    "<hr style=\"height:3px;border:none;color:#5F71F7;background-color:#FFA500;\" />"
   ]
  },
  {
   "cell_type": "markdown",
   "id": "consecutive-start",
   "metadata": {},
   "source": [
    "<div align='right'>작성자 : 성민석(Minsuk Sung)</div>\n",
    "<div align='right'>연락처 : minsuksung@korea.ac.kr</div>\n",
    "<div align='right'>GitHub : https://github.com/minsuk-sung</div> "
   ]
  },
  {
   "cell_type": "markdown",
   "id": "quantitative-heaven",
   "metadata": {},
   "source": [
    "> <font color='red'><b>DISCRAIMER</b></font> 모든 내용은 밑바닥부터 시작하는 딥러닝3(Deep Learning from Scratch3), 한빛미디어을 참고하여 만들어졌으며, 책의 내용에 대한 모든 저작권은 한빛미디어에게 있음을 미리 밝힙니다. 또한 여기에 사용된 코드의 대부분은 한빛미디어에서 제공해준 GitHub을 바탕으로 재구성하였습니다."
   ]
  },
  {
   "cell_type": "markdown",
   "id": "hollywood-street",
   "metadata": {
    "toc": true
   },
   "source": [
    "<h1>목차<span class=\"tocSkip\"></span></h1>\n",
    "<div class=\"toc\"><ul class=\"toc-item\"><li><span><a href=\"#들어가기--앞서\" data-toc-modified-id=\"들어가기--앞서-1\">들어가기  앞서</a></span><ul class=\"toc-item\"><li><span><a href=\"#DeZero\" data-toc-modified-id=\"DeZero-1.1\">DeZero</a></span></li><li><span><a href=\"#개발-로드맵\" data-toc-modified-id=\"개발-로드맵-1.2\">개발 로드맵</a></span></li><li><span><a href=\"#DeZero-프레임워크-핵심-클래스들의-관계도\" data-toc-modified-id=\"DeZero-프레임워크-핵심-클래스들의-관계도-1.3\">DeZero 프레임워크 핵심 클래스들의 관계도</a></span></li><li><span><a href=\"#필요한-라이브러리-설치하기\" data-toc-modified-id=\"필요한-라이브러리-설치하기-1.4\">필요한 라이브러리 설치하기</a></span></li><li><span><a href=\"#GitHub-저장소-안내\" data-toc-modified-id=\"GitHub-저장소-안내-1.5\">GitHub 저장소 안내</a></span></li><li><span><a href=\"#제-1고지-요약\" data-toc-modified-id=\"제-1고지-요약-1.6\">제 1고지 요약</a></span></li></ul></li><li><span><a href=\"#STEP01-상자로서의-변수-(p39)\" data-toc-modified-id=\"STEP01-상자로서의-변수-(p39)-2\">STEP01 상자로서의 변수 (p39)</a></span><ul class=\"toc-item\"><li><span><a href=\"#1.1-변수란\" data-toc-modified-id=\"1.1-변수란-2.1\">1.1 변수란</a></span></li><li><span><a href=\"#1.2-Variable-클래스-구현\" data-toc-modified-id=\"1.2-Variable-클래스-구현-2.2\">1.2 Variable 클래스 구현</a></span></li><li><span><a href=\"#1.3-(보충)-넘파이의-다차원-배열\" data-toc-modified-id=\"1.3-(보충)-넘파이의-다차원-배열-2.3\">1.3 (보충) 넘파이의 다차원 배열</a></span></li></ul></li><li><span><a href=\"#STEP02-변수를-낳는-함수-(p45)\" data-toc-modified-id=\"STEP02-변수를-낳는-함수-(p45)-3\">STEP02 변수를 낳는 함수 (p45)</a></span><ul class=\"toc-item\"><li><span><a href=\"#2.1-함수란\" data-toc-modified-id=\"2.1-함수란-3.1\">2.1 함수란</a></span></li><li><span><a href=\"#2.2-Function-클래스-구현\" data-toc-modified-id=\"2.2-Function-클래스-구현-3.2\">2.2 Function 클래스 구현</a></span></li><li><span><a href=\"#2.3-Function-클래스-이용\" data-toc-modified-id=\"2.3-Function-클래스-이용-3.3\">2.3 Function 클래스 이용</a></span></li></ul></li><li><span><a href=\"#STEP03-함수-연결-(p51)\" data-toc-modified-id=\"STEP03-함수-연결-(p51)-4\">STEP03 함수 연결 (p51)</a></span><ul class=\"toc-item\"><li><span><a href=\"#3.1-$Exp$-함수-구현\" data-toc-modified-id=\"3.1-$Exp$-함수-구현-4.1\">3.1 $Exp$ 함수 구현</a></span></li><li><span><a href=\"#3.2-함수-연결\" data-toc-modified-id=\"3.2-함수-연결-4.2\">3.2 함수 연결</a></span></li></ul></li><li><span><a href=\"#STEP04-수치-미분\" data-toc-modified-id=\"STEP04-수치-미분-5\">STEP04 수치 미분</a></span><ul class=\"toc-item\"><li><span><a href=\"#4.1-미분이란\" data-toc-modified-id=\"4.1-미분이란-5.1\">4.1 미분이란</a></span></li><li><span><a href=\"#4.2-수치-미분-구현\" data-toc-modified-id=\"4.2-수치-미분-구현-5.2\">4.2 수치 미분 구현</a></span></li><li><span><a href=\"#4.3-합성-함수의-미분\" data-toc-modified-id=\"4.3-합성-함수의-미분-5.3\">4.3 합성 함수의 미분</a></span></li><li><span><a href=\"#4.4-수치-미분의-문제점\" data-toc-modified-id=\"4.4-수치-미분의-문제점-5.4\">4.4 수치 미분의 문제점</a></span></li></ul></li><li><span><a href=\"#STEP05-역전파-이론\" data-toc-modified-id=\"STEP05-역전파-이론-6\">STEP05 역전파 이론</a></span><ul class=\"toc-item\"><li><span><a href=\"#5.1-연쇄-법칙\" data-toc-modified-id=\"5.1-연쇄-법칙-6.1\">5.1 연쇄 법칙</a></span></li><li><span><a href=\"#5.2-역전파-원리-도출\" data-toc-modified-id=\"5.2-역전파-원리-도출-6.2\">5.2 역전파 원리 도출</a></span></li><li><span><a href=\"#5.3-계산-그래프-살펴보기\" data-toc-modified-id=\"5.3-계산-그래프-살펴보기-6.3\">5.3 계산 그래프 살펴보기</a></span></li></ul></li><li><span><a href=\"#STEP06-수동-역전파\" data-toc-modified-id=\"STEP06-수동-역전파-7\">STEP06 수동 역전파</a></span><ul class=\"toc-item\"><li><span><a href=\"#6.1-Variable-클래스-추가-구현\" data-toc-modified-id=\"6.1-Variable-클래스-추가-구현-7.1\">6.1 Variable 클래스 추가 구현</a></span></li><li><span><a href=\"#6.2-Function-클래스-추가-구현\" data-toc-modified-id=\"6.2-Function-클래스-추가-구현-7.2\">6.2 Function 클래스 추가 구현</a></span></li><li><span><a href=\"#6.3-$Square$와-$Exp$-클래스-추가-구현\" data-toc-modified-id=\"6.3-$Square$와-$Exp$-클래스-추가-구현-7.3\">6.3 $Square$와 $Exp$ 클래스 추가 구현</a></span></li><li><span><a href=\"#6.4-역전파-구현\" data-toc-modified-id=\"6.4-역전파-구현-7.4\">6.4 역전파 구현</a></span></li></ul></li><li><span><a href=\"#STEP07-역전파-자동화\" data-toc-modified-id=\"STEP07-역전파-자동화-8\">STEP07 역전파 자동화</a></span><ul class=\"toc-item\"><li><span><a href=\"#7.1-역전파-자동화의-시작\" data-toc-modified-id=\"7.1-역전파-자동화의-시작-8.1\">7.1 역전파 자동화의 시작</a></span></li><li><span><a href=\"#7.2-역전파-도전\" data-toc-modified-id=\"7.2-역전파-도전-8.2\">7.2 역전파 도전</a></span></li><li><span><a href=\"#7.3-backward-메서드-추가\" data-toc-modified-id=\"7.3-backward-메서드-추가-8.3\">7.3 backward 메서드 추가</a></span></li></ul></li><li><span><a href=\"#STEP08-재귀에서-반복문으로\" data-toc-modified-id=\"STEP08-재귀에서-반복문으로-9\">STEP08 재귀에서 반복문으로</a></span><ul class=\"toc-item\"><li><span><a href=\"#8.1-현재의-Variable-클래스\" data-toc-modified-id=\"8.1-현재의-Variable-클래스-9.1\">8.1 현재의 Variable 클래스</a></span></li><li><span><a href=\"#8.2-반복문을-이용한-구현\" data-toc-modified-id=\"8.2-반복문을-이용한-구현-9.2\">8.2 반복문을 이용한 구현</a></span></li><li><span><a href=\"#8.3-동작-확인\" data-toc-modified-id=\"8.3-동작-확인-9.3\">8.3 동작 확인</a></span></li></ul></li><li><span><a href=\"#STEP09-함수를-더-편리하게\" data-toc-modified-id=\"STEP09-함수를-더-편리하게-10\">STEP09 함수를 더 편리하게</a></span><ul class=\"toc-item\"><li><span><a href=\"#9.1-파이썬-함수로-이용하기\" data-toc-modified-id=\"9.1-파이썬-함수로-이용하기-10.1\">9.1 파이썬 함수로 이용하기</a></span></li><li><span><a href=\"#9.2-backward-메서드-간소화\" data-toc-modified-id=\"9.2-backward-메서드-간소화-10.2\">9.2 backward 메서드 간소화</a></span></li><li><span><a href=\"#9.3-ndarray만-취급하기\" data-toc-modified-id=\"9.3-ndarray만-취급하기-10.3\">9.3 ndarray만 취급하기</a></span></li></ul></li><li><span><a href=\"#STEP10-테스트\" data-toc-modified-id=\"STEP10-테스트-11\">STEP10 테스트</a></span><ul class=\"toc-item\"><li><span><a href=\"#10.1-파이썬-단위-테스트\" data-toc-modified-id=\"10.1-파이썬-단위-테스트-11.1\">10.1 파이썬 단위 테스트</a></span></li><li><span><a href=\"#10.2-square-함수의-역전파-테스트\" data-toc-modified-id=\"10.2-square-함수의-역전파-테스트-11.2\">10.2 square 함수의 역전파 테스트</a></span></li><li><span><a href=\"#10.3-기울기-확인을-이용한-자동-테스트\" data-toc-modified-id=\"10.3-기울기-확인을-이용한-자동-테스트-11.3\">10.3 기울기 확인을 이용한 자동 테스트</a></span></li><li><span><a href=\"#10.4-테스트-정리\" data-toc-modified-id=\"10.4-테스트-정리-11.4\">10.4 테스트 정리</a></span></li></ul></li></ul></div>"
   ]
  },
  {
   "cell_type": "markdown",
   "id": "suspended-event",
   "metadata": {},
   "source": [
    "## 들어가기  앞서\n",
    "<hr style=\"height:3px;border:none;color:#5F71F7;background-color:#FFA500;\" />"
   ]
  },
  {
   "cell_type": "markdown",
   "id": "level-nevada",
   "metadata": {},
   "source": [
    "<br>\n",
    "<br>\n",
    "<div align='right'><i>진정한 여행은 새로운 풍경을 찾는 것이 아니라,<br> 새로운 눈을 뜨는 여정이다.</i> <br> - 마르셀 프루스트 (프랑스 작가, 1871~1922)</div>\n",
    "<br>\n",
    "<br>"
   ]
  },
  {
   "cell_type": "markdown",
   "id": "injured-director",
   "metadata": {},
   "source": [
    "<img src=\"https://raw.githubusercontent.com/oreilly-japan/deep-learning-from-scratch-3/images/dezero_logo.png\" width=50%></img>"
   ]
  },
  {
   "cell_type": "markdown",
   "id": "adult-bible",
   "metadata": {},
   "source": [
    "### DeZero\n",
    "- DeZero는 체이너를 기초로 파이토치의 설계를 덧씌운 구조\n",
    "- DeZero의 주요 3가지 특징\n",
    "    - 미니멀리즘: 외부 라이브러리 없이 코드도 최소화\n",
    "    - 순수 파이썬: C/C++과 같은 다른 언어가 아니라 오로지 파이썬으로만\n",
    "    - 현대적인 기능: Define-by-run 방식의 프레임워크"
   ]
  },
  {
   "cell_type": "markdown",
   "id": "comic-polls",
   "metadata": {},
   "source": [
    "<img src=\"img/roadmap.png\" width=50%></img>"
   ]
  },
  {
   "cell_type": "markdown",
   "id": "asian-borough",
   "metadata": {},
   "source": [
    "### 개발 로드맵\n",
    "- <b><mark>제 1고지: DeZero의 기반을 마련</mark> → 이번에 배울 내용</b>\n",
    "- 제 2고지: DeZero를 보다 자연스럽게 보이도록\n",
    "- 제 3고지: 2차 미분을 계산할 수 있도록 확장\n",
    "- 제 4고지: 신경망용으로 정비\n",
    "- 제 5고지: GPU대응이나 모델 저장과 복원과 같이 실전 딥러닝에 꼭 필요한 기능을 추가"
   ]
  },
  {
   "cell_type": "markdown",
   "id": "sorted-pavilion",
   "metadata": {},
   "source": [
    "### DeZero 프레임워크 핵심 클래스들의 관계도"
   ]
  },
  {
   "cell_type": "markdown",
   "id": "ready-shelf",
   "metadata": {},
   "source": [
    "<img src=\"DeZeroClasses.png\" width=80%></img>"
   ]
  },
  {
   "cell_type": "markdown",
   "id": "integrated-version",
   "metadata": {},
   "source": [
    "### 필요한 라이브러리 설치하기\n",
    "\n",
    "라이브러리를 설치하기 앞서 아나콘다를 이용하여 가상환경을 별도로 만들어두시는 걸 권장합니다.\n",
    "```bash\n",
    "$ (base) conda create -n dlfs3 python=3.7\n",
    "$ (base) conda activate dlfs3\n",
    "$ (dlfs3) pip install -r requirements.txt\n",
    "```"
   ]
  },
  {
   "cell_type": "code",
   "execution_count": 1,
   "id": "likely-message",
   "metadata": {
    "ExecuteTime": {
     "end_time": "2021-06-20T09:51:04.146291Z",
     "start_time": "2021-06-20T09:51:03.565587Z"
    }
   },
   "outputs": [
    {
     "name": "stdout",
     "output_type": "stream",
     "text": [
      "matplotlib                        3.3.4\r\n",
      "numpy                             1.20.2\r\n"
     ]
    }
   ],
   "source": [
    "!pip list | grep -E 'numpy|matplotlib'"
   ]
  },
  {
   "cell_type": "markdown",
   "id": "noticed-estate",
   "metadata": {},
   "source": [
    "### GitHub 저장소 안내\n",
    "\n",
    "자료에서 제공하는 모든 코드는 [GitHub](https://github.com/Cognitive-Systems-Laboratory/deep-learning-from-scratch-3)에서 구할 수 있습니다.\n",
    "```\n",
    "https://github.com/Cognitive-Systems-Laboratory/deep-learning-from-scratch-3\n",
    "```"
   ]
  },
  {
   "cell_type": "markdown",
   "id": "pleased-atlas",
   "metadata": {},
   "source": [
    "### 제 1고지 요약\n",
    "- 제 1고지는 총 10단계로 구성\n",
    "- 미분을 자동으로 계산하기 위해서 '변수'와 '함수'를 표현하는 두 클래스 `Variable`과 `Function`을 만듬"
   ]
  },
  {
   "cell_type": "markdown",
   "id": "rotary-stranger",
   "metadata": {},
   "source": [
    "## STEP01 상자로서의 변수 (p39)\n",
    "<hr style=\"height:3px;border:none;color:#5F71F7;background-color:#FFA500;\" />"
   ]
  },
  {
   "cell_type": "markdown",
   "id": "ranging-outreach",
   "metadata": {},
   "source": [
    "### 1.1 변수란\n",
    "\n",
    "<img src=\"img/그림 1-1.png\" width=30%></img>\n",
    "- 상자와 데이터는 별개다\n",
    "- 상자에는 데이터가 들어간다\n",
    "- 상자 속을 들여다보면 데이터를 알 수 있다"
   ]
  },
  {
   "cell_type": "markdown",
   "id": "seven-irrigation",
   "metadata": {},
   "source": [
    "### 1.2 Variable 클래스 구현"
   ]
  },
  {
   "cell_type": "code",
   "execution_count": 2,
   "id": "incorrect-milwaukee",
   "metadata": {
    "ExecuteTime": {
     "end_time": "2021-06-20T09:51:04.237091Z",
     "start_time": "2021-06-20T09:51:04.149742Z"
    }
   },
   "outputs": [],
   "source": [
    "import numpy as np"
   ]
  },
  {
   "cell_type": "code",
   "execution_count": 3,
   "id": "aggressive-snowboard",
   "metadata": {
    "ExecuteTime": {
     "end_time": "2021-06-20T09:51:04.242062Z",
     "start_time": "2021-06-20T09:51:04.239269Z"
    }
   },
   "outputs": [],
   "source": [
    "class Variable:\n",
    "    def __init__(self, data):\n",
    "        self.data = data"
   ]
  },
  {
   "cell_type": "code",
   "execution_count": 4,
   "id": "mounted-paste",
   "metadata": {
    "ExecuteTime": {
     "end_time": "2021-06-20T09:51:04.256592Z",
     "start_time": "2021-06-20T09:51:04.243832Z"
    }
   },
   "outputs": [
    {
     "name": "stdout",
     "output_type": "stream",
     "text": [
      "1.0\n"
     ]
    }
   ],
   "source": [
    "data = np.array(1.0)\n",
    "x = Variable(data)\n",
    "print(x.data)"
   ]
  },
  {
   "cell_type": "code",
   "execution_count": 5,
   "id": "greater-objective",
   "metadata": {
    "ExecuteTime": {
     "end_time": "2021-06-20T09:51:04.272740Z",
     "start_time": "2021-06-20T09:51:04.258563Z"
    }
   },
   "outputs": [
    {
     "name": "stdout",
     "output_type": "stream",
     "text": [
      "2.0\n"
     ]
    }
   ],
   "source": [
    "x.data = np.array(2.0)\n",
    "print(x.data)"
   ]
  },
  {
   "cell_type": "markdown",
   "id": "numerical-norwegian",
   "metadata": {},
   "source": [
    "### 1.3 (보충) 넘파이의 다차원 배열\n",
    "\n",
    "다차원 배열을 텐서(Tensor)라고 함"
   ]
  },
  {
   "cell_type": "code",
   "execution_count": 6,
   "id": "prime-petroleum",
   "metadata": {
    "ExecuteTime": {
     "end_time": "2021-06-20T09:51:04.298798Z",
     "start_time": "2021-06-20T09:51:04.274952Z"
    }
   },
   "outputs": [
    {
     "data": {
      "text/plain": [
       "0"
      ]
     },
     "execution_count": 6,
     "metadata": {},
     "output_type": "execute_result"
    }
   ],
   "source": [
    "x = np.array(1)\n",
    "x.ndim"
   ]
  },
  {
   "cell_type": "code",
   "execution_count": 7,
   "id": "southern-appendix",
   "metadata": {
    "ExecuteTime": {
     "end_time": "2021-06-20T09:51:04.313751Z",
     "start_time": "2021-06-20T09:51:04.300165Z"
    }
   },
   "outputs": [
    {
     "data": {
      "text/plain": [
       "1"
      ]
     },
     "execution_count": 7,
     "metadata": {},
     "output_type": "execute_result"
    }
   ],
   "source": [
    "x = np.array([1,2,3])\n",
    "x.ndim"
   ]
  },
  {
   "cell_type": "code",
   "execution_count": 8,
   "id": "complimentary-preparation",
   "metadata": {
    "ExecuteTime": {
     "end_time": "2021-06-20T09:51:04.333254Z",
     "start_time": "2021-06-20T09:51:04.316735Z"
    }
   },
   "outputs": [
    {
     "data": {
      "text/plain": [
       "2"
      ]
     },
     "execution_count": 8,
     "metadata": {},
     "output_type": "execute_result"
    }
   ],
   "source": [
    "x = np.array([[1,2,3],\n",
    "              [4,5,6]])\n",
    "x.ndim"
   ]
  },
  {
   "cell_type": "markdown",
   "id": "national-sunrise",
   "metadata": {},
   "source": [
    "## STEP02 변수를 낳는 함수 (p45)\n",
    "<hr style=\"height:3px;border:none;color:#5F71F7;background-color:#FFA500;\" />"
   ]
  },
  {
   "cell_type": "markdown",
   "id": "fifth-missile",
   "metadata": {},
   "source": [
    "### 2.1 함수란\n",
    "\n",
    "<img src=\"img/그림 2-1.png\" width=30%></img>\n",
    "\n",
    "> 함수: 어떤 변수로부터 다른 변수로의 대응 관계를 정한 것\n",
    "\n",
    "여기서 원과 사각형 모양의 노드들을 화살표로 연결해 계산 과장을 표현한 그림을 계산 그래프(Computational graph)라고 한다.  \n",
    "이와 관련된 자세한 밑바닥부터 시작하는 딥러닝1을 살펴보길 바란다."
   ]
  },
  {
   "cell_type": "markdown",
   "id": "under-applicant",
   "metadata": {},
   "source": [
    "### 2.2 Function 클래스 구현\n",
    "\n",
    "Variable 인스턴스를 변수로 다룰 수 있는 함수를 Function 클래스로 구현해보자! 단 여기서 주의해야할 점이 있다.\n",
    "- Function 클래스는 Variable 인스턴스를 입력받아 Variable 인스턴스를 출력한다\n",
    "- Variable 인스턴스의 실제 데이터는 인스턴스의 변수인 data에 있다."
   ]
  },
  {
   "cell_type": "code",
   "execution_count": 9,
   "id": "upper-weekly",
   "metadata": {
    "ExecuteTime": {
     "end_time": "2021-06-20T09:51:04.346746Z",
     "start_time": "2021-06-20T09:51:04.335785Z"
    }
   },
   "outputs": [],
   "source": [
    "class Function:\n",
    "    def __call__(self, input):\n",
    "        x = input.data        # 데이터를 꺼내고\n",
    "        y = x ** 2            # 실제 계산\n",
    "        output = Variable(y)  # Variable 형태로 되돌림\n",
    "        return output"
   ]
  },
  {
   "cell_type": "code",
   "execution_count": 10,
   "id": "processed-powder",
   "metadata": {
    "ExecuteTime": {
     "end_time": "2021-06-20T09:51:04.364386Z",
     "start_time": "2021-06-20T09:51:04.348932Z"
    }
   },
   "outputs": [
    {
     "name": "stdout",
     "output_type": "stream",
     "text": [
      "<class '__main__.Variable'>\n",
      "<__main__.Variable object at 0x7f52704e39d0>\n",
      "100\n"
     ]
    }
   ],
   "source": [
    "x = Variable(np.array(10))\n",
    "f = Function()\n",
    "y = f(x)\n",
    "print(type(y))\n",
    "print(y)\n",
    "print(y.data)"
   ]
  },
  {
   "cell_type": "markdown",
   "id": "dominant-module",
   "metadata": {},
   "source": [
    "> <font color='red'><b>HINT</b></font>: `__call__`메서드는 파이썬의 특수 메서드이다. 함수를 호출하는 것처럼 클래스의 객체도 호출할 수 있게 만들수 있는데 이때 필요한 메소드이다. 객체가 호출 가능한지 알아보려면 `callable()`함수를 이용하면 된다"
   ]
  },
  {
   "cell_type": "code",
   "execution_count": 11,
   "id": "greater-behalf",
   "metadata": {
    "ExecuteTime": {
     "end_time": "2021-06-20T09:51:04.378729Z",
     "start_time": "2021-06-20T09:51:04.366710Z"
    }
   },
   "outputs": [
    {
     "data": {
      "text/plain": [
       "True"
      ]
     },
     "execution_count": 11,
     "metadata": {},
     "output_type": "execute_result"
    }
   ],
   "source": [
    "callable(f)"
   ]
  },
  {
   "cell_type": "markdown",
   "id": "acceptable-stake",
   "metadata": {},
   "source": [
    "### 2.3 Function 클래스 이용\n",
    "\n",
    "위와 같은 Function 클래스는 용도가 `고정`된 함수입니다. $sin$ 함수나 $exp$ 함수와 같이 다양한 함수가 필요할 수 있으니 Function 클래스는 기반 클래스로 두고 앞으로 나올 모든 함수가 공통적으로 제공하는 기능만 담아두도록 하자.\n",
    "\n",
    "- Function 클래스는 기반 클래스로서, 모든 함수에 공통되는 기능을 구현\n",
    "- 구체적인 함수는 Function 클래스를 상속한 클래스에서 구현"
   ]
  },
  {
   "cell_type": "code",
   "execution_count": 12,
   "id": "favorite-treat",
   "metadata": {
    "ExecuteTime": {
     "end_time": "2021-06-20T09:51:04.392423Z",
     "start_time": "2021-06-20T09:51:04.380908Z"
    }
   },
   "outputs": [],
   "source": [
    "class Function:\n",
    "    def __call__(self, input):\n",
    "        '''\n",
    "        사실상 여기서 __call__함수는\n",
    "        1. Variable에서 데이터 찾기\n",
    "        2. 계산 결과를 Variable에 포장하기\n",
    "        와 같은 일을 수행합니다.\n",
    "        '''\n",
    "        x = input.data\n",
    "        y = self.forward(x)\n",
    "        output = Variable(y)\n",
    "        return output\n",
    "\n",
    "    def forward(self, in_data):\n",
    "        raise NotImplementedError()"
   ]
  },
  {
   "cell_type": "code",
   "execution_count": 13,
   "id": "universal-carry",
   "metadata": {
    "ExecuteTime": {
     "end_time": "2021-06-20T09:51:04.407663Z",
     "start_time": "2021-06-20T09:51:04.394621Z"
    }
   },
   "outputs": [],
   "source": [
    "class Square(Function):\n",
    "    def forward(self, x):\n",
    "        return x ** 2"
   ]
  },
  {
   "cell_type": "code",
   "execution_count": 14,
   "id": "industrial-guess",
   "metadata": {
    "ExecuteTime": {
     "end_time": "2021-06-20T09:51:04.423476Z",
     "start_time": "2021-06-20T09:51:04.410124Z"
    }
   },
   "outputs": [
    {
     "name": "stdout",
     "output_type": "stream",
     "text": [
      "<class '__main__.Variable'>\n",
      "100\n"
     ]
    }
   ],
   "source": [
    "x = Variable(np.array(10))\n",
    "f = Square()\n",
    "y = f(x)\n",
    "print(type(y))\n",
    "print(y.data)"
   ]
  },
  {
   "cell_type": "markdown",
   "id": "classified-elder",
   "metadata": {},
   "source": [
    "## STEP03 함수 연결 (p51)\n",
    "<hr style=\"height:3px;border:none;color:#5F71F7;background-color:#FFA500;\" />"
   ]
  },
  {
   "cell_type": "markdown",
   "id": "hybrid-cannon",
   "metadata": {},
   "source": [
    "### 3.1 $Exp$ 함수 구현\n",
    "\n",
    "이번에는 지수 함수를 직접 구현해보자. Function클래스를 상속할 것이므로 사실 앞과 다른 점은 `forward`메서드의 내용 바뀌는 점 밖에 없다. "
   ]
  },
  {
   "cell_type": "code",
   "execution_count": 15,
   "id": "regulation-paste",
   "metadata": {
    "ExecuteTime": {
     "end_time": "2021-06-20T09:51:04.438162Z",
     "start_time": "2021-06-20T09:51:04.425910Z"
    }
   },
   "outputs": [],
   "source": [
    "class Exp(Function):\n",
    "    def forward(self, x):\n",
    "        return np.exp(x)  # Square 클래스와 다른 점은 오직 이 부분"
   ]
  },
  {
   "cell_type": "markdown",
   "id": "divine-mistress",
   "metadata": {},
   "source": [
    "### 3.2 함수 연결\n",
    "Function 클래스의 `__call__`메서드는 입출력이 모두 Variable 인스턴스이므로 자연스럽게 함수들을 연이어 사용가능하다."
   ]
  },
  {
   "cell_type": "code",
   "execution_count": 16,
   "id": "experimental-miller",
   "metadata": {
    "ExecuteTime": {
     "end_time": "2021-06-20T09:51:04.452607Z",
     "start_time": "2021-06-20T09:51:04.440966Z"
    }
   },
   "outputs": [],
   "source": [
    "A = Square()\n",
    "B = Exp()\n",
    "C = Square()"
   ]
  },
  {
   "cell_type": "code",
   "execution_count": 17,
   "id": "romantic-russell",
   "metadata": {
    "ExecuteTime": {
     "end_time": "2021-06-20T09:51:04.468281Z",
     "start_time": "2021-06-20T09:51:04.454944Z"
    }
   },
   "outputs": [
    {
     "name": "stdout",
     "output_type": "stream",
     "text": [
      "1.648721270700128\n"
     ]
    }
   ],
   "source": [
    "x = Variable(np.array(0.5))\n",
    "a = A(x)\n",
    "b = B(a)\n",
    "y = C(b)\n",
    "print(y.data)"
   ]
  },
  {
   "cell_type": "markdown",
   "id": "significant-advantage",
   "metadata": {},
   "source": [
    "<img src=\"img/그림 3-1.png\" width=50%></img>\n",
    "\n",
    "앞선 과정을 이렇게 계산 그래프로 나타낼 수 있다. 이렇게 표현하면 각 변수에 대한 미분을 효율적으로 계산할 수 있는 준비를 할 수 있다."
   ]
  },
  {
   "cell_type": "markdown",
   "id": "civilian-asbestos",
   "metadata": {},
   "source": [
    "## STEP04 수치 미분\n",
    "<hr style=\"height:3px;border:none;color:#5F71F7;background-color:#FFA500;\" />\n",
    "\n",
    "앞선 Variable 와 Function 클래스를 구현한 이유는 바로 <b>미분을 자동으로 계산하기 위해서</b>이다. 여기서 수치 미분이란 간단한 방법을 통해서 미분을 계산해보도록 하자."
   ]
  },
  {
   "cell_type": "markdown",
   "id": "blind-sector",
   "metadata": {},
   "source": [
    "### 4.1 미분이란\n",
    "\n",
    "<img src=\"img/그림 4-1.png\" width=50%></img>\n",
    "\n",
    "$$ f^{\\prime}(x) = \\lim_{h \\rightarrow 0}\\frac{f(x+h) - f(x)}{h} $$\n",
    "\n",
    "미분에 대한 정확한 정의는 <b>극한으로 짧은 시간에서의 변화량</b>이다. 이에 대한 자세한 내용은 각자 알아서 공부하길 바란다."
   ]
  },
  {
   "cell_type": "markdown",
   "id": "deadly-guidance",
   "metadata": {},
   "source": [
    "### 4.2 수치 미분 구현\n",
    "\n",
    "컴퓨터는 여러 가지 이유로 극한을 취급하기 번거로우니 $h$ 값을 매우 작게 하여 미분을 계산할 수 있다. 이렇게 계산하는 방법을 `수치 미분` 중에서도 `전진 차분(forward difference)`라고 한다. 하지만 이렇게 계산할 경우 어쩔 수 없이 오차가 발생할 수 있다. 이를 줄이고자 나온 방법이 `중앙 차분(Centered difference)` 방법이다. 즉, $f(x+h) - f(x-h)$를 구하여 계산한다. \n",
    "\n",
    "\n",
    "> <font color='red'><b>HINT</b></font>: 테일러 급수를 이용하면 중앙 차분이 전진 차분보다 더 오차가 적다는 것을 증명할 수 있다.\n",
    "\n",
    "\n",
    "<img src=\"img/그림 4-2.png\" width=50%></img>"
   ]
  },
  {
   "cell_type": "markdown",
   "id": "overall-dining",
   "metadata": {},
   "source": [
    "`numerical_diff`라는 함수를 만들어서 실제로 구현해보자."
   ]
  },
  {
   "cell_type": "code",
   "execution_count": 18,
   "id": "sapphire-budapest",
   "metadata": {
    "ExecuteTime": {
     "end_time": "2021-06-20T09:51:04.484191Z",
     "start_time": "2021-06-20T09:51:04.470610Z"
    }
   },
   "outputs": [],
   "source": [
    "def numerical_diff(f, x, eps=1e-4):\n",
    "    x0 = Variable(x.data - eps)\n",
    "    x1 = Variable(x.data + eps)\n",
    "    y0 = f(x0)\n",
    "    y1 = f(x1)\n",
    "    return (y1.data - y0.data) / (2 * eps)"
   ]
  },
  {
   "cell_type": "code",
   "execution_count": 19,
   "id": "generous-opera",
   "metadata": {
    "ExecuteTime": {
     "end_time": "2021-06-20T09:51:04.499703Z",
     "start_time": "2021-06-20T09:51:04.486946Z"
    }
   },
   "outputs": [
    {
     "name": "stdout",
     "output_type": "stream",
     "text": [
      "4.000000000004\n"
     ]
    }
   ],
   "source": [
    "f = Square()\n",
    "x = Variable(np.array(2.0))\n",
    "dy = numerical_diff(f, x)\n",
    "print(dy)"
   ]
  },
  {
   "cell_type": "markdown",
   "id": "quiet-array",
   "metadata": {},
   "source": [
    "### 4.3 합성 함수의 미분"
   ]
  },
  {
   "cell_type": "code",
   "execution_count": 20,
   "id": "remarkable-salad",
   "metadata": {
    "ExecuteTime": {
     "end_time": "2021-06-20T09:51:04.513282Z",
     "start_time": "2021-06-20T09:51:04.501979Z"
    }
   },
   "outputs": [],
   "source": [
    "def f(x):\n",
    "    A = Square()\n",
    "    B = Exp()\n",
    "    C = Square()\n",
    "    return C(B(A(x)))"
   ]
  },
  {
   "cell_type": "code",
   "execution_count": 21,
   "id": "minimal-business",
   "metadata": {
    "ExecuteTime": {
     "end_time": "2021-06-20T09:51:04.529264Z",
     "start_time": "2021-06-20T09:51:04.515970Z"
    }
   },
   "outputs": [
    {
     "name": "stdout",
     "output_type": "stream",
     "text": [
      "3.2974426293330694\n"
     ]
    }
   ],
   "source": [
    "x = Variable(np.array(0.5))\n",
    "dy = numerical_diff(f, x)\n",
    "print(dy)"
   ]
  },
  {
   "cell_type": "markdown",
   "id": "victorian-zealand",
   "metadata": {},
   "source": [
    "여기까지 우리는 미분을 자동으로 계산하는데 성공했다. 하지만 이러한 수치 미분 방법에는 2가지 문제가 존재한다."
   ]
  },
  {
   "cell_type": "markdown",
   "id": "unique-disease",
   "metadata": {},
   "source": [
    "### 4.4 수치 미분의 문제점\n",
    "수치 미분의 첫번째 문제점은 바로 이 <mark>(1) 오차</mark>이다. 이런 오차가 작아도 때론 어떤 계산에서는 커지게 되어 치명적으로 작동할 수 있기 때문이다. 또한 수치 미분의 두번째 문제점은 <mark>(2) 계산량이 엄청 많다는 점</mark>(이다. 그래서 이후 우리는 <font color='red'><b>역전파(Backpropagation)</b></font>라는 방법을 통해서 이런 문제를 해결할 것이다.\n",
    "\n",
    "그렇다면 이런 수치 미분은 어떻게 활용될까? 역전파는 수치 미분의 문제점을 해결해주지만 여전히 복잡하다. 때문에 이러한 역전파를 정확하게 구현했는지 알아보기 위해서 수치 미분의 결과로 체크를 할 수 있다. 이런 방법을 `기울기 확인(Gradient checking)`이라고 한다."
   ]
  },
  {
   "cell_type": "markdown",
   "id": "supreme-airplane",
   "metadata": {},
   "source": [
    "## STEP05 역전파 이론\n",
    "<hr style=\"height:3px;border:none;color:#5F71F7;background-color:#FFA500;\" />"
   ]
  },
  {
   "cell_type": "markdown",
   "id": "ruled-connectivity",
   "metadata": {},
   "source": [
    "### 5.1 연쇄 법칙\n",
    "\n",
    "역전파를 이해하는 가장 핵심은 바로 연쇄 법칙(Chain rule)이다. 합성 함수처럼 여러 함수를 체인으로 연결하여 사용할 때, 이러한 연쇄 법칙에 따르면 합성 함수의 미분은 구성 함수 각각을 미분한 후 곱한 것과 같다.\n",
    "\n",
    "<img src=\"img/그림 5-1.png\" width=50%></img>\n",
    "\n",
    "$$ y = F(x), a = A(x), b = B(a), y = C(b) $$\n",
    "$$ \\frac{dy}{dx} = \\frac{dy}{db} \\cdot \\frac{db}{da} \\cdot \\frac{da}{dx}$$\n",
    "\n",
    "$x$에 대한 $y$의 미분은 구성 함수 각각의 미분값을 모두 곱한 값과 같다. 즉, 합성 함수의 미분은 각 함수의 국소적인 미분들로 분해 가능하다."
   ]
  },
  {
   "cell_type": "markdown",
   "id": "sudden-serve",
   "metadata": {},
   "source": [
    "### 5.2 역전파 원리 도출\n",
    "\n",
    "출력에서 입력 방향으로 순서대로 계산해보자. 출력 $y$에서 입력 $x$ 방향으로 곱하면서 순서대로 미분하면 최종적으로 $\\frac{dy}{dx}$를 구할 수 있다.\n",
    "\n",
    "<img src=\"img/그림 5-2.png\" width=50%></img>\n",
    "\n",
    "여기서 가장 중요한 점은 전파되는 데이터는 모두 <font color='red'>$y$의 미분값</font>이라는 것이다!"
   ]
  },
  {
   "cell_type": "markdown",
   "id": "secure-humidity",
   "metadata": {},
   "source": [
    "### 5.3 계산 그래프 살펴보기\n",
    "\n",
    "<img src=\"img/그림 5-5.png\" width=50%></img>\n",
    "\n",
    "결국 정리하자면 변수는 통상값과 미분값이 존재하고, 함수는 통상 계산(순전파)과 미분값을 구하기 위한 계산(역전파)이 존재하는 것이라고 말할 수 있다. 또한 <mark>가장 중요한 점은 <font color='red'><b>역전파 시에는 순전파 시 이용한 데이터 (e.g. $x$,$a$,$b$) 가 필요하다는 것</b></font>이다. 따라서 역전파를 구현하려면 먼저 순전파를 하고, 이때 각 함수가 입력 변수의 값을 기억해두지 않으면 안 된다는 점이다!</mark> 이후 내용을 보면서 이 말이 어떤 내용인지 다시 한번 알아보자.\n",
    "\n",
    "> <font color='red'><b>HINT</b></font>: 사실 이와 관련된 정확한 내용은 밑바닥부터 시작하는 딥러닝1을 확인하길 바란다."
   ]
  },
  {
   "cell_type": "markdown",
   "id": "modern-buddy",
   "metadata": {},
   "source": [
    "## STEP06 수동 역전파\n",
    "<hr style=\"height:3px;border:none;color:#5F71F7;background-color:#FFA500;\" />"
   ]
  },
  {
   "cell_type": "markdown",
   "id": "rubber-capability",
   "metadata": {},
   "source": [
    "### 6.1 Variable 클래스 추가 구현"
   ]
  },
  {
   "cell_type": "code",
   "execution_count": null,
   "id": "civil-shareware",
   "metadata": {},
   "outputs": [],
   "source": []
  },
  {
   "cell_type": "markdown",
   "id": "downtown-means",
   "metadata": {},
   "source": [
    "### 6.2 Function 클래스 추가 구현"
   ]
  },
  {
   "cell_type": "code",
   "execution_count": null,
   "id": "atomic-contents",
   "metadata": {},
   "outputs": [],
   "source": []
  },
  {
   "cell_type": "markdown",
   "id": "protecting-velvet",
   "metadata": {},
   "source": [
    "### 6.3 $Square$와 $Exp$ 클래스 추가 구현"
   ]
  },
  {
   "cell_type": "code",
   "execution_count": null,
   "id": "split-lighting",
   "metadata": {},
   "outputs": [],
   "source": []
  },
  {
   "cell_type": "markdown",
   "id": "southern-tension",
   "metadata": {},
   "source": [
    "### 6.4 역전파 구현"
   ]
  },
  {
   "cell_type": "code",
   "execution_count": null,
   "id": "jewish-legend",
   "metadata": {},
   "outputs": [],
   "source": []
  },
  {
   "cell_type": "markdown",
   "id": "healthy-richards",
   "metadata": {},
   "source": [
    "## STEP07 역전파 자동화\n",
    "<hr style=\"height:3px;border:none;color:#5F71F7;background-color:#FFA500;\" />"
   ]
  },
  {
   "cell_type": "markdown",
   "id": "abandoned-piano",
   "metadata": {},
   "source": [
    "### 7.1 역전파 자동화의 시작"
   ]
  },
  {
   "cell_type": "code",
   "execution_count": null,
   "id": "funded-nickel",
   "metadata": {},
   "outputs": [],
   "source": []
  },
  {
   "cell_type": "markdown",
   "id": "answering-trial",
   "metadata": {},
   "source": [
    "### 7.2 역전파 도전"
   ]
  },
  {
   "cell_type": "code",
   "execution_count": null,
   "id": "fatal-disposal",
   "metadata": {},
   "outputs": [],
   "source": []
  },
  {
   "cell_type": "markdown",
   "id": "compact-master",
   "metadata": {},
   "source": [
    "### 7.3 backward 메서드 추가"
   ]
  },
  {
   "cell_type": "code",
   "execution_count": null,
   "id": "secure-advocate",
   "metadata": {},
   "outputs": [],
   "source": []
  },
  {
   "cell_type": "markdown",
   "id": "prerequisite-vegetation",
   "metadata": {},
   "source": [
    "## STEP08 재귀에서 반복문으로\n",
    "<hr style=\"height:3px;border:none;color:#5F71F7;background-color:#FFA500;\" />"
   ]
  },
  {
   "cell_type": "markdown",
   "id": "beginning-bahamas",
   "metadata": {},
   "source": [
    "### 8.1 현재의 Variable 클래스"
   ]
  },
  {
   "cell_type": "code",
   "execution_count": null,
   "id": "british-accused",
   "metadata": {},
   "outputs": [],
   "source": []
  },
  {
   "cell_type": "markdown",
   "id": "thermal-blank",
   "metadata": {},
   "source": [
    "### 8.2 반복문을 이용한 구현"
   ]
  },
  {
   "cell_type": "code",
   "execution_count": null,
   "id": "instructional-month",
   "metadata": {},
   "outputs": [],
   "source": []
  },
  {
   "cell_type": "markdown",
   "id": "stupid-today",
   "metadata": {},
   "source": [
    "### 8.3 동작 확인"
   ]
  },
  {
   "cell_type": "code",
   "execution_count": null,
   "id": "cognitive-england",
   "metadata": {},
   "outputs": [],
   "source": []
  },
  {
   "cell_type": "markdown",
   "id": "dimensional-voltage",
   "metadata": {},
   "source": [
    "## STEP09 함수를 더 편리하게\n",
    "<hr style=\"height:3px;border:none;color:#5F71F7;background-color:#FFA500;\" />"
   ]
  },
  {
   "cell_type": "markdown",
   "id": "whole-candy",
   "metadata": {},
   "source": [
    "### 9.1 파이썬 함수로 이용하기"
   ]
  },
  {
   "cell_type": "code",
   "execution_count": null,
   "id": "beneficial-orchestra",
   "metadata": {},
   "outputs": [],
   "source": []
  },
  {
   "cell_type": "markdown",
   "id": "immune-parish",
   "metadata": {},
   "source": [
    "### 9.2 backward 메서드 간소화"
   ]
  },
  {
   "cell_type": "code",
   "execution_count": null,
   "id": "daily-train",
   "metadata": {},
   "outputs": [],
   "source": []
  },
  {
   "cell_type": "markdown",
   "id": "demographic-directive",
   "metadata": {},
   "source": [
    "### 9.3 ndarray만 취급하기"
   ]
  },
  {
   "cell_type": "code",
   "execution_count": null,
   "id": "injured-explosion",
   "metadata": {},
   "outputs": [],
   "source": []
  },
  {
   "cell_type": "markdown",
   "id": "american-parade",
   "metadata": {},
   "source": [
    "## STEP10 테스트\n",
    "<hr style=\"height:3px;border:none;color:#5F71F7;background-color:#FFA500;\" />"
   ]
  },
  {
   "cell_type": "markdown",
   "id": "joint-theology",
   "metadata": {},
   "source": [
    "### 10.1 파이썬 단위 테스트"
   ]
  },
  {
   "cell_type": "code",
   "execution_count": null,
   "id": "cooperative-cross",
   "metadata": {},
   "outputs": [],
   "source": []
  },
  {
   "cell_type": "markdown",
   "id": "active-berlin",
   "metadata": {},
   "source": [
    "### 10.2 square 함수의 역전파 테스트"
   ]
  },
  {
   "cell_type": "code",
   "execution_count": null,
   "id": "economic-resort",
   "metadata": {},
   "outputs": [],
   "source": []
  },
  {
   "cell_type": "markdown",
   "id": "cutting-anchor",
   "metadata": {},
   "source": [
    "### 10.3 기울기 확인을 이용한 자동 테스트"
   ]
  },
  {
   "cell_type": "code",
   "execution_count": null,
   "id": "atomic-begin",
   "metadata": {},
   "outputs": [],
   "source": []
  },
  {
   "cell_type": "markdown",
   "id": "systematic-cemetery",
   "metadata": {},
   "source": [
    "### 10.4 테스트 정리"
   ]
  },
  {
   "cell_type": "code",
   "execution_count": null,
   "id": "hollow-locking",
   "metadata": {},
   "outputs": [],
   "source": []
  },
  {
   "cell_type": "markdown",
   "id": "interstate-resort",
   "metadata": {},
   "source": [
    "<font size=5><b>Reference</b></font>\n",
    "<hr style=\"height:3px;border:none;color:#5F71F7;background-color:#FFA500;\" />"
   ]
  },
  {
   "cell_type": "markdown",
   "id": "convenient-release",
   "metadata": {},
   "source": [
    "- https://github.com/WegraLee/deep-learning-from-scratch-3\n",
    "- https://nbviewer.jupyter.org/gist/minsuk-sung/1da11fff6fcd67037d60eb84cb25708b"
   ]
  }
 ],
 "metadata": {
  "kernelspec": {
   "display_name": "Python 3",
   "language": "python",
   "name": "python3"
  },
  "language_info": {
   "codemirror_mode": {
    "name": "ipython",
    "version": 3
   },
   "file_extension": ".py",
   "mimetype": "text/x-python",
   "name": "python",
   "nbconvert_exporter": "python",
   "pygments_lexer": "ipython3",
   "version": "3.7.10"
  },
  "toc": {
   "base_numbering": 1,
   "nav_menu": {},
   "number_sections": false,
   "sideBar": true,
   "skip_h1_title": true,
   "title_cell": "목차",
   "title_sidebar": "목차",
   "toc_cell": true,
   "toc_position": {},
   "toc_section_display": true,
   "toc_window_display": true
  }
 },
 "nbformat": 4,
 "nbformat_minor": 5
}
